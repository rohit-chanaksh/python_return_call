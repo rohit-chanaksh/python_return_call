{
 "cells": [
  {
   "cell_type": "code",
   "execution_count": 5,
   "metadata": {},
   "outputs": [
    {
     "name": "stdout",
     "output_type": "stream",
     "text": [
      "call a func\n",
      "inside check_greter_exe function body\n",
      " 100 < 50 = False\n",
      "end of check_exe_result function body\n",
      "output = False\n",
      "end of a func\n"
     ]
    }
   ],
   "source": [
    "def check_greter_exe (value,checkvalue) :\n",
    "    print('inside check_greter_exe function body')\n",
    "    print(f' {value} < {checkvalue} = {value < checkvalue}')\n",
    "    print('end of check_exe_result function body')\n",
    "    return value < checkvalue\n",
    "\n",
    "print('call a func')\n",
    "output = check_greter_exe(100 ,50)\n",
    "print(f'output = {output}')\n",
    "print('end of a func')\n"
   ]
  },
  {
   "cell_type": "code",
   "execution_count": 1,
   "metadata": {},
   "outputs": [
    {
     "name": "stdout",
     "output_type": "stream",
     "text": [
      "call a func\n",
      "inside check_greter_exe function body\n",
      " 100 + 50 = 150\n",
      "end of check_exe_result function body\n",
      "output = 150\n",
      "end of a func\n"
     ]
    }
   ],
   "source": [
    "def check_add_exe (value1,value2) :\n",
    "    print('inside check_greter_exe function body')\n",
    "    print(f' {value1} + {value2} = {value1 + value2}')\n",
    "    print('end of check_exe_result function body')\n",
    "    return value1 + value2\n",
    "\n",
    "print('call a func')\n",
    "output = check_add_exe(100 ,50)\n",
    "print(f'output = {output}')\n",
    "print('end of a func')\n"
   ]
  },
  {
   "cell_type": "code",
   "execution_count": null,
   "metadata": {},
   "outputs": [],
   "source": []
  }
 ],
 "metadata": {
  "kernelspec": {
   "display_name": "Python 3",
   "language": "python",
   "name": "python3"
  },
  "language_info": {
   "codemirror_mode": {
    "name": "ipython",
    "version": 3
   },
   "file_extension": ".py",
   "mimetype": "text/x-python",
   "name": "python",
   "nbconvert_exporter": "python",
   "pygments_lexer": "ipython3",
   "version": "3.12.4"
  }
 },
 "nbformat": 4,
 "nbformat_minor": 2
}
